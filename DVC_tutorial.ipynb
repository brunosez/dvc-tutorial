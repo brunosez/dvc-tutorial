{
 "cells": [
  {
   "cell_type": "code",
   "execution_count": 4,
   "id": "936fb708",
   "metadata": {},
   "outputs": [
    {
     "name": "stdout",
     "output_type": "stream",
     "text": [
      "There are no data or pipelines tracked in this project yet.\n",
      "See <https://dvc.org/doc/start> to get started!\n"
     ]
    }
   ],
   "source": [
    "!dvc status"
   ]
  },
  {
   "cell_type": "code",
   "execution_count": 3,
   "id": "01665f7e",
   "metadata": {},
   "outputs": [
    {
     "name": "stdout",
     "output_type": "stream",
     "text": [
      " Le volume dans le lecteur C s'appelle OSDisk\n",
      " Le num‚ro de s‚rie du volume est A045-2A0B\n",
      "\n",
      " R‚pertoire de C:\\Users\\JB6407\\Documents\\Mooc-DVC\\example-versioning\n",
      "\n",
      "27/01/2023  18:20    <DIR>          .\n",
      "27/01/2023  18:20    <DIR>          ..\n",
      "27/01/2023  18:16    <DIR>          .dvc\n",
      "27/01/2023  15:09                 6 .gitignore\n",
      "27/01/2023  18:20    <DIR>          .ipynb_checkpoints\n",
      "27/01/2023  18:19                 0 data.zip\n",
      "27/01/2023  18:16             4ÿ723 DVC tutorial.ipynb\n",
      "27/01/2023  15:09               131 README.md\n",
      "27/01/2023  15:09                50 requirements.txt\n",
      "27/01/2023  15:09             4ÿ258 train.py\n",
      "               6 fichier(s)            9ÿ168 octets\n",
      "               4 R‚p(s)  131ÿ074ÿ867ÿ200 octets libres\n"
     ]
    }
   ],
   "source": [
    "!dir"
   ]
  },
  {
   "cell_type": "code",
   "execution_count": null,
   "id": "03b8a426",
   "metadata": {},
   "outputs": [],
   "source": []
  },
  {
   "cell_type": "markdown",
   "id": "98d134d6",
   "metadata": {},
   "source": [
    "# Download the data"
   ]
  },
  {
   "cell_type": "code",
   "execution_count": null,
   "id": "1f4a5b0b",
   "metadata": {},
   "outputs": [],
   "source": [
    "!dvc get https://github.com/iterative/dataset-registry tutorials/versioning/data.zip"
   ]
  },
  {
   "cell_type": "markdown",
   "id": "1bf5dddf",
   "metadata": {},
   "source": [
    "# Manual unzip on windows !"
   ]
  },
  {
   "cell_type": "code",
   "execution_count": 5,
   "id": "8b1e0a15",
   "metadata": {},
   "outputs": [
    {
     "name": "stderr",
     "output_type": "stream",
     "text": [
      "'unzip' n'est pas reconnu en tant que commande interne\n",
      "ou externe, un programme ex‚cutable ou un fichier de commandes.\n"
     ]
    }
   ],
   "source": [
    "!unzip -q data.zip"
   ]
  },
  {
   "cell_type": "code",
   "execution_count": 6,
   "id": "6670b24e",
   "metadata": {},
   "outputs": [
    {
     "name": "stdout",
     "output_type": "stream",
     "text": [
      "\n",
      "To track the changes with git, run:\n",
      "\n",
      "\tgit add data.dvc .gitignore\n",
      "\n",
      "To enable auto staging, run:\n",
      "\n",
      "\tdvc config core.autostage true\n"
     ]
    }
   ],
   "source": [
    "!dvc add data"
   ]
  },
  {
   "cell_type": "markdown",
   "id": "62fcd10c",
   "metadata": {},
   "source": [
    "# train the model (10 epochs) and track it with dvc"
   ]
  },
  {
   "cell_type": "code",
   "execution_count": 8,
   "id": "c89b0bc0",
   "metadata": {},
   "outputs": [
    {
     "name": "stdout",
     "output_type": "stream",
     "text": [
      "Downloading data from https://storage.googleapis.com/tensorflow/keras-applications/vgg16/vgg16_weights_tf_dim_ordering_tf_kernels_notop.h5\n",
      "\n",
      "    8192/58889256 [..............................] - ETA: 0s\n",
      "  319488/58889256 [..............................] - ETA: 9s\n",
      " 1499136/58889256 [..............................] - ETA: 3s\n",
      " 2973696/58889256 [>.............................] - ETA: 2s\n",
      " 4423680/58889256 [=>............................] - ETA: 2s\n",
      " 5816320/58889256 [=>............................] - ETA: 2s\n",
      " 7405568/58889256 [==>...........................] - ETA: 2s\n",
      " 8716288/58889256 [===>..........................] - ETA: 2s\n",
      " 9773056/58889256 [===>..........................] - ETA: 2s\n",
      "10297344/58889256 [====>.........................] - ETA: 2s\n",
      "11132928/58889256 [====>.........................] - ETA: 2s\n",
      "12664832/58889256 [=====>........................] - ETA: 2s\n",
      "13754368/58889256 [======>.......................] - ETA: 2s\n",
      "15122432/58889256 [======>.......................] - ETA: 2s\n",
      "16408576/58889256 [=======>......................] - ETA: 2s\n",
      "18006016/58889256 [========>.....................] - ETA: 1s\n",
      "18587648/58889256 [========>.....................] - ETA: 1s\n",
      "19857408/58889256 [=========>....................] - ETA: 1s\n",
      "21151744/58889256 [=========>....................] - ETA: 1s\n",
      "22642688/58889256 [==========>...................] - ETA: 1s\n",
      "24010752/58889256 [===========>..................] - ETA: 1s\n",
      "25174016/58889256 [===========>..................] - ETA: 1s\n",
      "26157056/58889256 [============>.................] - ETA: 1s\n",
      "27541504/58889256 [=============>................] - ETA: 1s\n",
      "28819456/58889256 [=============>................] - ETA: 1s\n",
      "30212096/58889256 [==============>...............] - ETA: 1s\n",
      "31645696/58889256 [===============>..............] - ETA: 1s\n",
      "33079296/58889256 [===============>..............] - ETA: 1s\n",
      "34570240/58889256 [================>.............] - ETA: 1s\n",
      "36012032/58889256 [=================>............] - ETA: 0s\n",
      "37568512/58889256 [==================>...........] - ETA: 0s\n",
      "38961152/58889256 [==================>...........] - ETA: 0s\n",
      "40091648/58889256 [===================>..........] - ETA: 0s\n",
      "41295872/58889256 [====================>.........] - ETA: 0s\n",
      "42778624/58889256 [====================>.........] - ETA: 0s\n",
      "43958272/58889256 [=====================>........] - ETA: 0s\n",
      "45441024/58889256 [======================>.......] - ETA: 0s\n",
      "46686208/58889256 [======================>.......] - ETA: 0s\n",
      "48259072/58889256 [=======================>......] - ETA: 0s\n",
      "49618944/58889256 [========================>.....] - ETA: 0s\n",
      "50692096/58889256 [========================>.....] - ETA: 0s\n",
      "52043776/58889256 [=========================>....] - ETA: 0s\n",
      "53633024/58889256 [==========================>...] - ETA: 0s\n",
      "54804480/58889256 [==========================>...] - ETA: 0s\n",
      "56188928/58889256 [===========================>..] - ETA: 0s\n",
      "57688064/58889256 [============================>.] - ETA: 0s\n",
      "58482688/58889256 [============================>.] - ETA: 0s\n",
      "58889256/58889256 [==============================] - 2s 0us/step\n",
      "Found 1000 images belonging to 2 classes.\n",
      "Found 800 images belonging to 2 classes.\n"
     ]
    },
    {
     "name": "stderr",
     "output_type": "stream",
     "text": [
      "2023-01-27 18:31:35.965698: I tensorflow/core/platform/cpu_feature_guard.cc:193] This TensorFlow binary is optimized with oneAPI Deep Neural Network Library (oneDNN) to use the following CPU instructions in performance-critical operations:  AVX AVX2\n",
      "To enable them in other operations, rebuild TensorFlow with the appropriate compiler flags.\n",
      "C:\\Users\\JB6407\\Documents\\Mooc-DVC\\example-versioning\\train.py:82: UserWarning: `Model.predict_generator` is deprecated and will be removed in a future version. Please use `Model.predict`, which supports generators.\n",
      "  bottleneck_features_train = model.predict_generator(\n",
      "C:\\Users\\JB6407\\Documents\\Mooc-DVC\\example-versioning\\train.py:93: UserWarning: `Model.predict_generator` is deprecated and will be removed in a future version. Please use `Model.predict`, which supports generators.\n",
      "  bottleneck_features_validation = model.predict_generator(\n",
      "\n",
      "0epoch [00:00, ?epoch/s]\n",
      "\n",
      "0batch [00:00, ?batch/s]\u001b[A\n",
      "  0%|          | 0/10 [00:00<?, ?epoch/s]\n",
      "\n",
      "  0%|          | 0.00/100 [00:00<?, ?batch/s]\u001b[A\n",
      "\n",
      "  1%|1         | 1.00/100 [00:00<00:35, 2.77batch/s, loss=0.866, accuracy=0.4]\u001b[A\n",
      "\n",
      "  9%|9         | 9.00/100 [00:00<00:03, 24.5batch/s, loss=2.57, accuracy=0.544]\u001b[A\n",
      "\n",
      " 17%|#7        | 17.0/100 [00:00<00:02, 40.2batch/s, loss=1.79, accuracy=0.594]\u001b[A\n",
      "\n",
      " 25%|##5       | 25.0/100 [00:00<00:01, 51.1batch/s, loss=1.63, accuracy=0.612]\u001b[A\n",
      "\n",
      " 33%|###3      | 33.0/100 [00:00<00:01, 58.4batch/s, loss=1.41, accuracy=0.655]\u001b[A\n",
      "\n",
      " 41%|####1     | 41.0/100 [00:00<00:00, 63.7batch/s, loss=1.24, accuracy=0.671]\u001b[A\n",
      "\n",
      " 49%|####9     | 49.0/100 [00:00<00:00, 67.0batch/s, loss=1.13, accuracy=0.684]\u001b[A\n",
      "\n",
      " 57%|#####6    | 57.0/100 [00:01<00:00, 68.4batch/s, loss=1.08, accuracy=0.684]\u001b[A\n",
      "\n",
      " 65%|######5   | 65.0/100 [00:01<00:00, 69.5batch/s, loss=1, accuracy=0.7]     \u001b[A\n",
      "\n",
      " 73%|#######3  | 73.0/100 [00:01<00:00, 71.4batch/s, loss=0.94, accuracy=0.71]\u001b[A\n",
      "\n",
      " 82%|########2 | 82.0/100 [00:01<00:00, 75.2batch/s, loss=0.902, accuracy=0.71]\u001b[A\n",
      "\n",
      " 90%|######### | 90.0/100 [00:01<00:00, 74.7batch/s, loss=0.862, accuracy=0.717]\u001b[A\n",
      "\n",
      " 98%|#########8| 98.0/100 [00:01<00:00, 74.3batch/s, loss=0.84, accuracy=0.715] \u001b[A\n",
      " 10%|#         | 1/10 [00:01<00:17,  1.97s/epoch, loss=0.827, accuracy=0.719, val_loss=0.316, val_accuracy=0.848]\n",
      "\n",
      "  0%|          | 0.00/100 [00:00<?, ?batch/s, loss=0.827, accuracy=0.719]      \u001b[A\n",
      "\n",
      "  8%|8         | 8.00/100 [00:00<00:01, 74.8batch/s, loss=0.205, accuracy=0.938]\u001b[A\n",
      "\n",
      " 16%|#6        | 16.0/100 [00:00<00:01, 73.3batch/s, loss=0.283, accuracy=0.887]\u001b[A\n",
      "\n",
      " 24%|##4       | 24.0/100 [00:00<00:01, 75.5batch/s, loss=0.289, accuracy=0.863]\u001b[A\n",
      "\n",
      " 32%|###2      | 32.0/100 [00:00<00:00, 75.5batch/s, loss=0.316, accuracy=0.853]\u001b[A\n",
      "\n",
      " 40%|####      | 40.0/100 [00:00<00:00, 75.6batch/s, loss=0.326, accuracy=0.855]\u001b[A\n",
      "\n",
      " 48%|####8     | 48.0/100 [00:00<00:00, 76.3batch/s, loss=0.312, accuracy=0.86] \u001b[A\n",
      "\n",
      " 56%|#####6    | 56.0/100 [00:00<00:00, 76.5batch/s, loss=0.347, accuracy=0.846]\u001b[A\n",
      "\n",
      " 64%|######4   | 64.0/100 [00:00<00:00, 76.2batch/s, loss=0.352, accuracy=0.844]\u001b[A\n",
      "\n",
      " 72%|#######2  | 72.0/100 [00:00<00:00, 74.4batch/s, loss=0.369, accuracy=0.844]\u001b[A\n",
      "\n",
      " 80%|########  | 80.0/100 [00:01<00:00, 74.7batch/s, loss=0.391, accuracy=0.839]\u001b[A\n",
      "\n",
      " 88%|########8 | 88.0/100 [00:01<00:00, 76.3batch/s, loss=0.39, accuracy=0.842] \u001b[A\n",
      "\n",
      " 96%|#########6| 96.0/100 [00:01<00:00, 76.2batch/s, loss=0.384, accuracy=0.842]\u001b[A\n",
      " 20%|##        | 2/10 [00:03<00:13,  1.67s/epoch, loss=0.387, accuracy=0.84, val_loss=0.366, val_accuracy=0.839] \n",
      "\n",
      "  0%|          | 0.00/100 [00:00<?, ?batch/s, loss=0.387, accuracy=0.84]        \u001b[A\n",
      "\n",
      "  8%|8         | 8.00/100 [00:00<00:01, 64.6batch/s, loss=0.244, accuracy=0.913]\u001b[A\n",
      "\n",
      " 16%|#6        | 16.0/100 [00:00<00:01, 68.8batch/s, loss=0.342, accuracy=0.887]\u001b[A\n",
      "\n",
      " 24%|##4       | 24.0/100 [00:00<00:01, 72.9batch/s, loss=0.324, accuracy=0.879]\u001b[A\n",
      "\n",
      " 33%|###3      | 33.0/100 [00:00<00:00, 76.7batch/s, loss=0.354, accuracy=0.876]\u001b[A\n",
      "\n",
      " 41%|####1     | 41.0/100 [00:00<00:00, 76.9batch/s, loss=0.359, accuracy=0.868]\u001b[A\n",
      "\n",
      " 49%|####9     | 49.0/100 [00:00<00:00, 76.6batch/s, loss=0.363, accuracy=0.867]\u001b[A\n",
      "\n",
      " 57%|#####6    | 57.0/100 [00:00<00:00, 77.2batch/s, loss=0.353, accuracy=0.872]\u001b[A\n",
      "\n",
      " 65%|######5   | 65.0/100 [00:00<00:00, 77.6batch/s, loss=0.337, accuracy=0.877]\u001b[A\n",
      "\n",
      " 73%|#######3  | 73.0/100 [00:00<00:00, 77.2batch/s, loss=0.336, accuracy=0.881]\u001b[A\n",
      "\n",
      " 81%|########1 | 81.0/100 [00:01<00:00, 77.5batch/s, loss=0.323, accuracy=0.884]\u001b[A\n",
      "\n",
      " 89%|########9 | 89.0/100 [00:01<00:00, 78.0batch/s, loss=0.331, accuracy=0.878]\u001b[A\n",
      "\n",
      " 97%|#########7| 97.0/100 [00:01<00:00, 76.3batch/s, loss=0.322, accuracy=0.879]\u001b[A\n",
      " 30%|###       | 3/10 [00:04<00:10,  1.57s/epoch, loss=0.32, accuracy=0.879, val_loss=0.277, val_accuracy=0.902]\n",
      "\n",
      "  0%|          | 0.00/100 [00:00<?, ?batch/s, loss=0.32, accuracy=0.879]        \u001b[A\n",
      "\n",
      "  8%|8         | 8.00/100 [00:00<00:01, 76.9batch/s, loss=0.147, accuracy=0.938]\u001b[A\n",
      "\n",
      " 17%|#7        | 17.0/100 [00:00<00:01, 79.0batch/s, loss=0.278, accuracy=0.906]\u001b[A\n",
      "\n",
      " 25%|##5       | 25.0/100 [00:00<00:00, 79.4batch/s, loss=0.23, accuracy=0.92]  \u001b[A\n",
      "\n",
      " 33%|###3      | 33.0/100 [00:00<00:00, 77.9batch/s, loss=0.234, accuracy=0.912]\u001b[A\n",
      "\n",
      " 41%|####1     | 41.0/100 [00:00<00:00, 71.4batch/s, loss=0.269, accuracy=0.902]\u001b[A\n",
      "\n",
      " 49%|####9     | 49.0/100 [00:00<00:00, 71.2batch/s, loss=0.274, accuracy=0.902]\u001b[A\n",
      "\n",
      " 57%|#####6    | 57.0/100 [00:00<00:00, 70.9batch/s, loss=0.272, accuracy=0.904]\u001b[A\n",
      "\n",
      " 65%|######5   | 65.0/100 [00:00<00:00, 72.5batch/s, loss=0.264, accuracy=0.905]\u001b[A\n",
      "\n",
      " 73%|#######3  | 73.0/100 [00:00<00:00, 73.4batch/s, loss=0.264, accuracy=0.905]\u001b[A\n",
      "\n",
      " 81%|########1 | 81.0/100 [00:01<00:00, 71.6batch/s, loss=0.261, accuracy=0.907]\u001b[A\n",
      "\n",
      " 89%|########9 | 89.0/100 [00:01<00:00, 69.9batch/s, loss=0.255, accuracy=0.91] \u001b[A\n",
      "\n",
      " 97%|#########7| 97.0/100 [00:01<00:00, 71.3batch/s, loss=0.253, accuracy=0.91]\u001b[A\n",
      " 40%|####      | 4/10 [00:06<00:09,  1.55s/epoch, loss=0.253, accuracy=0.91, val_loss=0.288, val_accuracy=0.896]\n",
      "\n",
      "  0%|          | 0.00/100 [00:00<?, ?batch/s, loss=0.253, accuracy=0.91]       \u001b[A\n",
      "\n",
      "  8%|8         | 8.00/100 [00:00<00:01, 73.4batch/s, loss=0.273, accuracy=0.887]\u001b[A\n",
      "\n",
      " 16%|#6        | 16.0/100 [00:00<00:01, 72.2batch/s, loss=0.187, accuracy=0.913]\u001b[A\n",
      "\n",
      " 24%|##4       | 24.0/100 [00:00<00:01, 74.6batch/s, loss=0.167, accuracy=0.929]\u001b[A\n",
      "\n",
      " 32%|###2      | 32.0/100 [00:00<00:00, 72.0batch/s, loss=0.209, accuracy=0.922]\u001b[A\n",
      "\n",
      " 40%|####      | 40.0/100 [00:00<00:00, 70.9batch/s, loss=0.182, accuracy=0.93] \u001b[A\n",
      "\n",
      " 49%|####9     | 49.0/100 [00:00<00:00, 74.5batch/s, loss=0.218, accuracy=0.92]\u001b[A\n",
      "\n",
      " 57%|#####6    | 57.0/100 [00:00<00:00, 76.0batch/s, loss=0.209, accuracy=0.925]\u001b[A\n",
      "\n",
      " 65%|######5   | 65.0/100 [00:00<00:00, 77.2batch/s, loss=0.223, accuracy=0.92] \u001b[A\n",
      "\n",
      " 73%|#######3  | 73.0/100 [00:00<00:00, 76.5batch/s, loss=0.215, accuracy=0.921]\u001b[A\n",
      "\n",
      " 81%|########1 | 81.0/100 [00:01<00:00, 76.0batch/s, loss=0.203, accuracy=0.925]\u001b[A\n",
      "\n",
      " 89%|########9 | 89.0/100 [00:01<00:00, 77.2batch/s, loss=0.216, accuracy=0.92] \u001b[A\n",
      "\n",
      " 97%|#########7| 97.0/100 [00:01<00:00, 76.8batch/s, loss=0.219, accuracy=0.922]\u001b[A\n",
      " 50%|#####     | 5/10 [00:07<00:07,  1.52s/epoch, loss=0.219, accuracy=0.922, val_loss=0.266, val_accuracy=0.906]\n",
      "\n",
      "  0%|          | 0.00/100 [00:00<?, ?batch/s, loss=0.219, accuracy=0.922]       \u001b[A\n",
      "\n",
      "  8%|8         | 8.00/100 [00:00<00:01, 49.4batch/s, loss=0.181, accuracy=0.938]\u001b[A\n",
      "\n",
      " 16%|#6        | 16.0/100 [00:00<00:01, 63.1batch/s, loss=0.147, accuracy=0.938]\u001b[A\n",
      "\n",
      " 24%|##4       | 24.0/100 [00:00<00:01, 69.3batch/s, loss=0.21, accuracy=0.904] \u001b[A\n",
      "\n",
      " 32%|###2      | 32.0/100 [00:00<00:00, 72.9batch/s, loss=0.176, accuracy=0.922]\u001b[A\n",
      "\n",
      " 40%|####      | 40.0/100 [00:00<00:00, 75.1batch/s, loss=0.195, accuracy=0.928]\u001b[A\n",
      "\n",
      " 49%|####9     | 49.0/100 [00:00<00:00, 76.9batch/s, loss=0.215, accuracy=0.918]\u001b[A\n",
      "\n",
      " 58%|#####8    | 58.0/100 [00:00<00:00, 78.1batch/s, loss=0.197, accuracy=0.928]\u001b[A\n",
      "\n",
      " 66%|######6   | 66.0/100 [00:00<00:00, 76.8batch/s, loss=0.189, accuracy=0.93] \u001b[A\n",
      "\n",
      " 75%|#######5  | 75.0/100 [00:01<00:00, 78.6batch/s, loss=0.187, accuracy=0.929]\u001b[A\n",
      "\n",
      " 84%|########4 | 84.0/100 [00:01<00:00, 79.4batch/s, loss=0.185, accuracy=0.932]\u001b[A\n",
      "\n",
      " 93%|#########3| 93.0/100 [00:01<00:00, 78.0batch/s, loss=0.194, accuracy=0.927]\u001b[A\n",
      " 60%|######    | 6/10 [00:09<00:06,  1.50s/epoch, loss=0.199, accuracy=0.925, val_loss=0.258, val_accuracy=0.905]\n",
      "\n",
      "  0%|          | 0.00/100 [00:00<?, ?batch/s, loss=0.199, accuracy=0.925]       \u001b[A\n",
      "\n",
      "  8%|8         | 8.00/100 [00:00<00:01, 73.4batch/s, loss=0.0979, accuracy=0.938]\u001b[A\n",
      "\n",
      " 16%|#6        | 16.0/100 [00:00<00:01, 76.3batch/s, loss=0.133, accuracy=0.925] \u001b[A\n",
      "\n",
      " 24%|##4       | 24.0/100 [00:00<00:00, 77.9batch/s, loss=0.11, accuracy=0.942] \u001b[A\n",
      "\n",
      " 32%|###2      | 32.0/100 [00:00<00:00, 78.1batch/s, loss=0.13, accuracy=0.934]\u001b[A\n",
      "\n",
      " 41%|####1     | 41.0/100 [00:00<00:00, 79.3batch/s, loss=0.121, accuracy=0.939]\u001b[A\n",
      "\n",
      " 50%|#####     | 50.0/100 [00:00<00:00, 80.4batch/s, loss=0.127, accuracy=0.938]\u001b[A\n",
      "\n",
      " 59%|#####8    | 59.0/100 [00:00<00:00, 80.9batch/s, loss=0.13, accuracy=0.937] \u001b[A\n",
      "\n",
      " 68%|######8   | 68.0/100 [00:00<00:00, 78.9batch/s, loss=0.15, accuracy=0.935]\u001b[A\n",
      "\n",
      " 77%|#######7  | 77.0/100 [00:00<00:00, 80.5batch/s, loss=0.143, accuracy=0.938]\u001b[A\n",
      "\n",
      " 86%|########6 | 86.0/100 [00:01<00:00, 81.1batch/s, loss=0.16, accuracy=0.935] \u001b[A\n",
      "\n",
      " 95%|#########5| 95.0/100 [00:01<00:00, 80.9batch/s, loss=0.163, accuracy=0.936]\u001b[A\n",
      " 70%|#######   | 7/10 [00:10<00:04,  1.48s/epoch, loss=0.162, accuracy=0.937, val_loss=0.522, val_accuracy=0.832]\n",
      "\n",
      "  0%|          | 0.00/100 [00:00<?, ?batch/s, loss=0.162, accuracy=0.937]       \u001b[A\n",
      "\n",
      "  9%|9         | 9.00/100 [00:00<00:01, 73.2batch/s, loss=0.111, accuracy=0.944]\u001b[A\n",
      "\n",
      " 17%|#7        | 17.0/100 [00:00<00:01, 75.6batch/s, loss=0.0955, accuracy=0.959]\u001b[A\n",
      "\n",
      " 25%|##5       | 25.0/100 [00:00<00:00, 77.3batch/s, loss=0.133, accuracy=0.96]  \u001b[A\n",
      "\n",
      " 34%|###4      | 34.0/100 [00:00<00:00, 78.9batch/s, loss=0.109, accuracy=0.968]\u001b[A\n",
      "\n",
      " 42%|####2     | 42.0/100 [00:00<00:00, 78.7batch/s, loss=0.144, accuracy=0.955]\u001b[A\n",
      "\n",
      " 50%|#####     | 50.0/100 [00:00<00:00, 77.6batch/s, loss=0.132, accuracy=0.958]\u001b[A\n",
      "\n",
      " 58%|#####8    | 58.0/100 [00:00<00:00, 78.4batch/s, loss=0.125, accuracy=0.96] \u001b[A\n",
      "\n",
      " 66%|######6   | 66.0/100 [00:00<00:00, 78.4batch/s, loss=0.119, accuracy=0.961]\u001b[A\n",
      "\n",
      " 74%|#######4  | 74.0/100 [00:00<00:00, 78.4batch/s, loss=0.123, accuracy=0.959]\u001b[A\n",
      "\n",
      " 82%|########2 | 82.0/100 [00:01<00:00, 78.6batch/s, loss=0.12, accuracy=0.961] \u001b[A\n",
      "\n",
      " 90%|######### | 90.0/100 [00:01<00:00, 77.6batch/s, loss=0.114, accuracy=0.963]\u001b[A\n",
      "\n",
      " 98%|#########8| 98.0/100 [00:01<00:00, 76.9batch/s, loss=0.126, accuracy=0.956]\u001b[A\n",
      " 80%|########  | 8/10 [00:12<00:02,  1.46s/epoch, loss=0.125, accuracy=0.956, val_loss=0.292, val_accuracy=0.908]\n",
      "\n",
      "  0%|          | 0.00/100 [00:00<?, ?batch/s, loss=0.125, accuracy=0.956]       \u001b[A\n",
      "\n",
      "  8%|8         | 8.00/100 [00:00<00:01, 78.4batch/s, loss=0.0252, accuracy=0.988]\u001b[A\n",
      "\n",
      " 16%|#6        | 16.0/100 [00:00<00:01, 73.4batch/s, loss=0.0717, accuracy=0.981]\u001b[A\n",
      "\n",
      " 24%|##4       | 24.0/100 [00:00<00:01, 74.6batch/s, loss=0.0667, accuracy=0.979]\u001b[A\n",
      "\n",
      " 32%|###2      | 32.0/100 [00:00<00:00, 71.5batch/s, loss=0.0868, accuracy=0.966]\u001b[A\n",
      "\n",
      " 40%|####      | 40.0/100 [00:00<00:00, 71.9batch/s, loss=0.105, accuracy=0.96]  \u001b[A\n",
      "\n",
      " 48%|####8     | 48.0/100 [00:00<00:00, 73.6batch/s, loss=0.101, accuracy=0.96]\u001b[A\n",
      "\n",
      " 57%|#####6    | 57.0/100 [00:00<00:00, 75.8batch/s, loss=0.0872, accuracy=0.967]\u001b[A\n",
      "\n",
      " 65%|######5   | 65.0/100 [00:00<00:00, 76.8batch/s, loss=0.0835, accuracy=0.968]\u001b[A\n",
      "\n",
      " 73%|#######3  | 73.0/100 [00:00<00:00, 77.8batch/s, loss=0.0908, accuracy=0.964]\u001b[A\n",
      "\n",
      " 81%|########1 | 81.0/100 [00:01<00:00, 78.4batch/s, loss=0.0982, accuracy=0.962]\u001b[A\n",
      "\n",
      " 90%|######### | 90.0/100 [00:01<00:00, 80.0batch/s, loss=0.0983, accuracy=0.962]\u001b[A\n",
      "\n",
      " 99%|#########9| 99.0/100 [00:01<00:00, 80.8batch/s, loss=0.104, accuracy=0.958] \u001b[A\n",
      " 90%|######### | 9/10 [00:13<00:01,  1.46s/epoch, loss=0.103, accuracy=0.958, val_loss=0.347, val_accuracy=0.905]\n",
      "\n",
      "  0%|          | 0.00/100 [00:00<?, ?batch/s, loss=0.103, accuracy=0.958]       \u001b[A\n",
      "\n",
      "  9%|9         | 9.00/100 [00:00<00:01, 80.3batch/s, loss=0.053, accuracy=0.967]\u001b[A\n",
      "\n",
      " 18%|#8        | 18.0/100 [00:00<00:01, 79.1batch/s, loss=0.0576, accuracy=0.978]\u001b[A\n",
      "\n",
      " 27%|##7       | 27.0/100 [00:00<00:00, 80.9batch/s, loss=0.0776, accuracy=0.974]\u001b[A\n",
      "\n",
      " 36%|###6      | 36.0/100 [00:00<00:00, 81.9batch/s, loss=0.0751, accuracy=0.975]\u001b[A\n",
      "\n",
      " 45%|####5     | 45.0/100 [00:00<00:00, 80.8batch/s, loss=0.0776, accuracy=0.973]\u001b[A\n",
      "\n",
      " 54%|#####4    | 54.0/100 [00:00<00:00, 81.6batch/s, loss=0.0801, accuracy=0.969]\u001b[A\n",
      "\n",
      " 63%|######3   | 63.0/100 [00:00<00:00, 81.7batch/s, loss=0.0832, accuracy=0.967]\u001b[A\n",
      "\n",
      " 72%|#######2  | 72.0/100 [00:00<00:00, 81.7batch/s, loss=0.0859, accuracy=0.965]\u001b[A\n",
      "\n",
      " 81%|########1 | 81.0/100 [00:00<00:00, 82.0batch/s, loss=0.0799, accuracy=0.968]\u001b[A\n",
      "\n",
      " 90%|######### | 90.0/100 [00:01<00:00, 81.5batch/s, loss=0.08, accuracy=0.966]  \u001b[A\n",
      "\n",
      " 99%|#########9| 99.0/100 [00:01<00:00, 82.0batch/s, loss=0.0889, accuracy=0.964]\u001b[A\n",
      "100%|##########| 10/10 [00:14<00:00,  1.43s/epoch, loss=0.089, accuracy=0.963, val_loss=0.36, val_accuracy=0.902]\n",
      "\n",
      "                                                                                 \u001b[A\n",
      "100%|##########| 10/10 [00:15<00:00,  1.50s/epoch, loss=0.089, accuracy=0.963, val_loss=0.36, val_accuracy=0.902]\n"
     ]
    }
   ],
   "source": [
    "!python train.py"
   ]
  },
  {
   "cell_type": "code",
   "execution_count": 9,
   "id": "30f2ffd4",
   "metadata": {},
   "outputs": [
    {
     "name": "stdout",
     "output_type": "stream",
     "text": [
      "\n",
      "To track the changes with git, run:\n",
      "\n",
      "\tgit add .gitignore model.h5.dvc\n",
      "\n",
      "To enable auto staging, run:\n",
      "\n",
      "\tdvc config core.autostage true\n"
     ]
    }
   ],
   "source": [
    "!dvc add model.h5"
   ]
  },
  {
   "cell_type": "markdown",
   "id": "a42f93db",
   "metadata": {},
   "source": [
    "#  \"dvc add \" stores them in the cache (usually in .dvc/cache) "
   ]
  },
  {
   "cell_type": "code",
   "execution_count": 10,
   "id": "46813c4e",
   "metadata": {},
   "outputs": [],
   "source": [
    "!git add data.dvc model.h5.dvc metrics.csv .gitignore"
   ]
  },
  {
   "cell_type": "code",
   "execution_count": 11,
   "id": "e1101172",
   "metadata": {},
   "outputs": [
    {
     "name": "stdout",
     "output_type": "stream",
     "text": [
      "[master dc0e238] First model, trained with 1000 images\n",
      " 4 files changed, 22 insertions(+)\n",
      " create mode 100644 data.dvc\n",
      " create mode 100644 metrics.csv\n",
      " create mode 100644 model.h5.dvc\n"
     ]
    }
   ],
   "source": [
    "!git commit -m \"First model, trained with 1000 images\"\n",
    "!git tag -a \"v1.0\" -m \"model v1.0, 1000 images\""
   ]
  },
  {
   "cell_type": "code",
   "execution_count": 12,
   "id": "d4e0a0cc",
   "metadata": {},
   "outputs": [
    {
     "name": "stdout",
     "output_type": "stream",
     "text": [
      "On branch master\n",
      "Your branch is ahead of 'origin/master' by 1 commit.\n",
      "  (use \"git push\" to publish your local commits)\n",
      "\n",
      "Untracked files:\n",
      "  (use \"git add <file>...\" to include in what will be committed)\n",
      "\t.ipynb_checkpoints/\n",
      "\tDVC tutorial.ipynb\n",
      "\tbottleneck_features_train.npy\n",
      "\tbottleneck_features_validation.npy\n",
      "\n",
      "nothing added to commit but untracked files present (use \"git add\" to track)\n"
     ]
    }
   ],
   "source": [
    "!git status"
   ]
  },
  {
   "cell_type": "code",
   "execution_count": null,
   "id": "b1e22021",
   "metadata": {},
   "outputs": [],
   "source": []
  }
 ],
 "metadata": {
  "kernelspec": {
   "display_name": "dvc-venv",
   "language": "python",
   "name": "dvc-venv"
  },
  "language_info": {
   "codemirror_mode": {
    "name": "ipython",
    "version": 3
   },
   "file_extension": ".py",
   "mimetype": "text/x-python",
   "name": "python",
   "nbconvert_exporter": "python",
   "pygments_lexer": "ipython3",
   "version": "3.10.8"
  }
 },
 "nbformat": 4,
 "nbformat_minor": 5
}
